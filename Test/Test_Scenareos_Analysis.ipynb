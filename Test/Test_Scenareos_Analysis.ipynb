{
 "cells": [
  {
   "cell_type": "code",
   "execution_count": 8,
   "metadata": {},
   "outputs": [
    {
     "name": "stdout",
     "output_type": "stream",
     "text": [
      "\n",
      "🚀 Running Forecast Validation Tests...\n",
      "\n",
      "✅ Output directory exists.\n",
      "✅ Forecast files exist for scenario: High Growth\n",
      "✅ Forecast files exist for scenario: Baseline\n",
      "✅ Forecast files exist for scenario: Low Growth\n",
      "✅ Columns and data integrity passed for High Growth\n",
      "✅ Columns and data integrity passed for Baseline\n",
      "✅ Columns and data integrity passed for Low Growth\n",
      "\n",
      "🎉 All Tests Passed Successfully!\n"
     ]
    }
   ],
   "source": [
    "import os\n",
    "import pandas as pd\n",
    "\n",
    "# === Test Parameters ===\n",
    "output_directory = r\"C:\\Users\\MSI\\Desktop\\Critical_mineral - Lithium\\Output\"\n",
    "expected_scenarios = [\"High Growth\", \"Baseline\", \"Low Growth\"]\n",
    "\n",
    "def test_file_existence():\n",
    "    assert os.path.exists(output_directory), f\"❌ Output directory does not exist: {output_directory}\"\n",
    "    print(\"✅ Output directory exists.\")\n",
    "\n",
    "def test_forecast_files_created():\n",
    "    for scenario in expected_scenarios:\n",
    "        ev_path = os.path.join(output_directory, f\"Updated_EV_Sales_Forecast_{scenario}.csv\")\n",
    "        li_path = os.path.join(output_directory, f\"Updated_Lithium_Production_Forecast_{scenario}.csv\")\n",
    "        assert os.path.isfile(ev_path), f\"❌ EV forecast CSV not found for {scenario}.\"\n",
    "        assert os.path.isfile(li_path), f\"❌ Lithium forecast CSV not found for {scenario}.\"\n",
    "        print(f\"✅ Forecast files exist for scenario: {scenario}\")\n",
    "\n",
    "def test_csv_columns_and_data():\n",
    "    for scenario in expected_scenarios:\n",
    "        ev_path = os.path.join(output_directory, f\"Updated_EV_Sales_Forecast_{scenario}.csv\")\n",
    "        li_path = os.path.join(output_directory, f\"Updated_Lithium_Production_Forecast_{scenario}.csv\")\n",
    "\n",
    "        ev_df = pd.read_csv(ev_path)\n",
    "        li_df = pd.read_csv(li_path)\n",
    "\n",
    "        for df, name in [(ev_df, \"EV\"), (li_df, \"Lithium\")]:\n",
    "            assert \"ds\" in df.columns, f\"❌ Missing 'ds' column in {name} forecast for {scenario}\"\n",
    "            assert \"Final_Forecast\" in df.columns, f\"❌ Missing 'Final_Forecast' column in {name} forecast for {scenario}\"\n",
    "            assert not df[\"Final_Forecast\"].isna().any(), f\"❌ Null values found in {name} Final_Forecast for {scenario}\"\n",
    "        \n",
    "        print(f\"✅ Columns and data integrity passed for {scenario}\")\n",
    "\n",
    "# === Run Tests ===\n",
    "if __name__ == \"__main__\":\n",
    "    print(\"\\n🚀 Running Forecast Validation Tests...\\n\")\n",
    "    test_file_existence()\n",
    "    test_forecast_files_created()\n",
    "    test_csv_columns_and_data()\n",
    "    print(\"\\n🎉 All Tests Passed Successfully!\")\n"
   ]
  }
 ],
 "metadata": {
  "kernelspec": {
   "display_name": "Python 3",
   "language": "python",
   "name": "python3"
  },
  "language_info": {
   "codemirror_mode": {
    "name": "ipython",
    "version": 3
   },
   "file_extension": ".py",
   "mimetype": "text/x-python",
   "name": "python",
   "nbconvert_exporter": "python",
   "pygments_lexer": "ipython3",
   "version": "3.12.9"
  }
 },
 "nbformat": 4,
 "nbformat_minor": 2
}
